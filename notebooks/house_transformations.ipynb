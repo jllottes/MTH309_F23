{
 "cells": [
  {
   "cell_type": "markdown",
   "metadata": {},
   "source": [
    "### Execute the cell below before proceeding.\n",
    "\n",
    "The code in this cell will download file with a Python script from the Internet. Make sure that you have a network connection before executing it.  "
   ]
  },
  {
   "cell_type": "code",
   "execution_count": null,
   "metadata": {},
   "outputs": [],
   "source": [
    "import requests\n",
    "with open(\"house_transformations.py\", 'w') as foo:\n",
    "    foo.write(requests.get(\"https://tinyurl.com/ycx28vvs\").text)\n",
    "from house_transformations import *"
   ]
  },
  {
   "cell_type": "markdown",
   "metadata": {},
   "source": [
    "<br/>\n",
    "\n",
    "# House Transformations\n",
    "\n",
    "The function `matrix_t()` shows the effect of a matrix transformation $T_A\\colon {\\mathbb R}^2 \\to {\\mathbb R}^2$ given by $T_A({\\mathbf v}) = A{\\mathbf v}$, where $A$ is a $2\\times2$ matrix."
   ]
  },
  {
   "cell_type": "markdown",
   "metadata": {},
   "source": [
    "Enter a $2\\times2$ matrix $A$:"
   ]
  },
  {
   "cell_type": "code",
   "execution_count": null,
   "metadata": {},
   "outputs": [],
   "source": [
    "A = Matrix([[-1, 1], [2, 3]])\n",
    "A"
   ]
  },
  {
   "cell_type": "markdown",
   "metadata": {},
   "source": [
    "The next cell produces a picture demonstrating the effect of the linear transformation $T_A$. The image on the left shows a drawing of a house. The image of the right shows that same drawing after the transformation $T_A$ is applied to it. You can use controls above the picture to pan and zoom on it. "
   ]
  },
  {
   "cell_type": "code",
   "execution_count": null,
   "metadata": {},
   "outputs": [],
   "source": [
    "matrix_t(A)"
   ]
  },
  {
   "cell_type": "markdown",
   "metadata": {},
   "source": [
    "## Exercises.\n",
    "\n",
    "In each exercise below find a $2\\times 2$ matrix $A$ such that the matrix transformation \n",
    "$$T_A \\colon {\\mathbb R}^2 \\to  {\\mathbb R}^2 $$\n",
    "transforms the image as indicated. Plug in this matrix into the function `matrix_t()` to recreate the picture accompanying the exercise. To complete this assignment enter matrices you used in each part into UBx. \n",
    "\n",
    "<hr><hr>"
   ]
  },
  {
   "cell_type": "markdown",
   "metadata": {},
   "source": [
    "### Exercise 1.\n",
    "\n",
    "The transformation $T_A$ magnifies the image by the factor of 2:"
   ]
  },
  {
   "cell_type": "code",
   "execution_count": null,
   "metadata": {
    "scrolled": false
   },
   "outputs": [],
   "source": [
    "# execute this cell to see the picture\n",
    "show_pic(\"scale2\")"
   ]
  },
  {
   "cell_type": "markdown",
   "metadata": {},
   "source": [
    "### Solution:"
   ]
  },
  {
   "cell_type": "code",
   "execution_count": null,
   "metadata": {},
   "outputs": [],
   "source": []
  },
  {
   "cell_type": "markdown",
   "metadata": {},
   "source": [
    "<br/>\n",
    "<hr>\n",
    "\n",
    "### Exercise 2.\n",
    "\n",
    "The transformation $T_A$ reflect the image with respect to the $x$-axis:"
   ]
  },
  {
   "cell_type": "code",
   "execution_count": null,
   "metadata": {
    "scrolled": false
   },
   "outputs": [],
   "source": [
    "# execute this cell to see the picture\n",
    "show_pic(\"ref_x\")"
   ]
  },
  {
   "cell_type": "markdown",
   "metadata": {},
   "source": [
    "### Solution:"
   ]
  },
  {
   "cell_type": "code",
   "execution_count": null,
   "metadata": {},
   "outputs": [],
   "source": []
  },
  {
   "cell_type": "markdown",
   "metadata": {},
   "source": [
    "<br/>\n",
    "<hr>\n",
    "\n",
    "### Exercise 3.\n",
    "\n",
    "The transformation $T_A$ reflect the image with respect to the $y$-axis:"
   ]
  },
  {
   "cell_type": "code",
   "execution_count": null,
   "metadata": {
    "scrolled": false
   },
   "outputs": [],
   "source": [
    "# execute this cell to see the picture\n",
    "show_pic(\"ref_y\")"
   ]
  },
  {
   "cell_type": "markdown",
   "metadata": {},
   "source": [
    "### Solution:"
   ]
  },
  {
   "cell_type": "code",
   "execution_count": null,
   "metadata": {},
   "outputs": [],
   "source": []
  },
  {
   "cell_type": "markdown",
   "metadata": {},
   "source": [
    "<br/>\n",
    "<hr>\n",
    "\n",
    "### Exercise 4.\n",
    "\n",
    "The transformation $T_A$ reflect the image with respect to the origin of the coordinate system:"
   ]
  },
  {
   "cell_type": "code",
   "execution_count": null,
   "metadata": {},
   "outputs": [],
   "source": [
    "# execute this cell to see the picture\n",
    "show_pic(\"ref_orig\")"
   ]
  },
  {
   "cell_type": "markdown",
   "metadata": {},
   "source": [
    "### Solution:"
   ]
  },
  {
   "cell_type": "code",
   "execution_count": null,
   "metadata": {},
   "outputs": [],
   "source": []
  },
  {
   "cell_type": "markdown",
   "metadata": {},
   "source": [
    "<br/>\n",
    "<hr>\n",
    "\n",
    "### Exercise 5.\n",
    "\n",
    "The transformation $T_A$ rotates the image 90 degrees counterclockwise:"
   ]
  },
  {
   "cell_type": "code",
   "execution_count": null,
   "metadata": {},
   "outputs": [],
   "source": [
    "# execute this cell to see the picture\n",
    "show_pic(\"rot_plus90\")"
   ]
  },
  {
   "cell_type": "markdown",
   "metadata": {},
   "source": [
    "### Solution:"
   ]
  },
  {
   "cell_type": "code",
   "execution_count": null,
   "metadata": {},
   "outputs": [],
   "source": []
  },
  {
   "cell_type": "markdown",
   "metadata": {},
   "source": [
    "<br/>\n",
    "<hr>\n",
    "\n",
    "### Exercise 6.\n",
    "\n",
    "The transformation $T_A$ rotates the image 45 degrees clockwise:"
   ]
  },
  {
   "cell_type": "code",
   "execution_count": null,
   "metadata": {},
   "outputs": [],
   "source": [
    "# execute this cell to see the picture\n",
    "show_pic(\"rot_minus45\")"
   ]
  },
  {
   "cell_type": "markdown",
   "metadata": {},
   "source": [
    "### Solution:"
   ]
  },
  {
   "cell_type": "code",
   "execution_count": null,
   "metadata": {},
   "outputs": [],
   "source": []
  },
  {
   "cell_type": "markdown",
   "metadata": {},
   "source": [
    "<br/>\n",
    "<hr>\n",
    "\n",
    "\n",
    "### Exercise 7.\n",
    "\n",
    "The transformation $T_A$ deforms the image as follows:"
   ]
  },
  {
   "cell_type": "code",
   "execution_count": null,
   "metadata": {},
   "outputs": [],
   "source": [
    "# execute this cell to see the picture\n",
    "show_pic(\"skew1\")"
   ]
  },
  {
   "cell_type": "markdown",
   "metadata": {},
   "source": [
    "<br/>\n",
    "<hr>\n",
    "\n",
    "### Exercise 8.\n",
    "\n",
    "The transformation $T_A$ deforms the image as follows:"
   ]
  },
  {
   "cell_type": "code",
   "execution_count": null,
   "metadata": {},
   "outputs": [],
   "source": [
    "# execute this cell to see the picture\n",
    "show_pic(\"skew2\")"
   ]
  },
  {
   "cell_type": "markdown",
   "metadata": {},
   "source": [
    "### Solution:"
   ]
  },
  {
   "cell_type": "code",
   "execution_count": null,
   "metadata": {},
   "outputs": [],
   "source": []
  }
 ],
 "metadata": {
  "kernelspec": {
   "display_name": "Python 3 (ipykernel)",
   "language": "python",
   "name": "python3"
  },
  "language_info": {
   "codemirror_mode": {
    "name": "ipython",
    "version": 3
   },
   "file_extension": ".py",
   "mimetype": "text/x-python",
   "name": "python",
   "nbconvert_exporter": "python",
   "pygments_lexer": "ipython3",
   "version": "3.9.17"
  }
 },
 "nbformat": 4,
 "nbformat_minor": 2
}
