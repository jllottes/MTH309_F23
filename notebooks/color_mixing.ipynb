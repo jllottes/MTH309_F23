{
 "cells": [
  {
   "cell_type": "markdown",
   "metadata": {},
   "source": [
    "### Execute the cell below before proceeding.\n",
    "\n",
    "The code in this cell will download two files, one with a Python script and another with a jpg image, from the Internet. Make sure that you have a network connection before executing it.  "
   ]
  },
  {
   "cell_type": "code",
   "execution_count": null,
   "metadata": {},
   "outputs": [],
   "source": [
    "%config InlineBackend.figure_format = 'retina'\n",
    "import requests\n",
    "with open(\"balloon.jpg\", \"wb\") as f:\n",
    "    f.write(requests.get(\"https://git.io/fj5Mx\").content)\n",
    "with open(\"color_mixing.py\", \"w\") as f:\n",
    "    f.write(requests.get(\"https://tinyurl.com/5fhdpc6s\").text)\n",
    "from color_mixing import *"
   ]
  },
  {
   "cell_type": "markdown",
   "metadata": {},
   "source": [
    "# Color mixing"
   ]
  },
  {
   "cell_type": "markdown",
   "metadata": {},
   "source": [
    "## RGB colors"
   ]
  },
  {
   "cell_type": "markdown",
   "metadata": {},
   "source": [
    "The RGB color model is a method of describing colors. In this model each color is represented as a mixture of three basic colors: red, green, and blue. By varying intensities of these components we can obtain a variety of colors. \n",
    "\n",
    "In many computer applications intensities of the red, green, and blue are given by integers \n",
    "in the range 0-255, where 0 is the lowest intensity and 255 is the highest. The function `rgb_sliders()` produces an interactive plot which shows the color corresponding to given RGB coordinates:"
   ]
  },
  {
   "cell_type": "code",
   "execution_count": null,
   "metadata": {},
   "outputs": [],
   "source": [
    "rgb_sliders()"
   ]
  },
  {
   "cell_type": "markdown",
   "metadata": {},
   "source": [
    "## RGB in an image"
   ]
  },
  {
   "cell_type": "markdown",
   "metadata": {},
   "source": [
    "Here we import an image file we will be working with:"
   ]
  },
  {
   "cell_type": "code",
   "execution_count": null,
   "metadata": {},
   "outputs": [],
   "source": [
    "# import image\n",
    "balloon = plt.imread(\"balloon.jpg\")\n",
    "\n",
    "# set image size\n",
    "plt.figure(figsize=(8,12))\n",
    "\n",
    "#display image\n",
    "plt.imshow(balloon)\n",
    "plt.show()"
   ]
  },
  {
   "cell_type": "markdown",
   "metadata": {},
   "source": [
    "The image is imported as an array of vectors, one vector for each image pixel. Each vector has 3 entries with RGB  coordinates of the pixel color. In the printout below each row shows the RGB vector for one pixel, starting with the pixel in the upper left corner of the image, and ending with the pixel in the lower right corner. "
   ]
  },
  {
   "cell_type": "code",
   "execution_count": null,
   "metadata": {},
   "outputs": [],
   "source": [
    "balloon"
   ]
  },
  {
   "cell_type": "markdown",
   "metadata": {},
   "source": [
    "## Color mixer"
   ]
  },
  {
   "cell_type": "markdown",
   "metadata": {},
   "source": [
    "The `color_mixer()` function works as follows. It takes as its arguments a 3x3 matrix $A$ and an array representing an image. For each image pixel it takes the vector \n",
    "\n",
    "$$\\mathbf{v} = \\begin{bmatrix} r \\\\ g \\\\ b \\\\ \\end{bmatrix}$$\n",
    "\n",
    "with RGB coordinates of the pixel, and replaces it with the vector $A\\mathbf{v}$, which specifies the new pixel color. Then it displays the image with colors given by the vectors $A\\mathbf{v}$:"
   ]
  },
  {
   "cell_type": "code",
   "execution_count": null,
   "metadata": {},
   "outputs": [],
   "source": [
    "A = Matrix([[0 , 1.5, 0.5], [0.25, 1, 0.1], [1, 0.3, 0.5]])\n",
    "A"
   ]
  },
  {
   "cell_type": "code",
   "execution_count": null,
   "metadata": {},
   "outputs": [],
   "source": [
    "color_mixer(A, balloon)"
   ]
  },
  {
   "cell_type": "markdown",
   "metadata": {},
   "source": [
    "**Note.** Since valid RGB values are integers between 0 and 255, coordinates of each vector $A\\mathbf{v}$\n",
    "are rounded to the nearest integer in this range. In particular, if $A\\mathbf{v}$ has negative coordinates they  are rounded up to 0, and if it has coordinates exceeding 255 they are rounded down to 255. "
   ]
  },
  {
   "cell_type": "markdown",
   "metadata": {},
   "source": [
    "## Exercises"
   ]
  },
  {
   "cell_type": "markdown",
   "metadata": {},
   "source": [
    "In each exercise below find a $3\\times 3$ matrix $A$ which transforms colors of image pixels as indicated. Use the function `color_mixer()` to display the resulting image of a balloon. To complete this assignment enter matrices you used in each part into UBx. "
   ]
  },
  {
   "cell_type": "markdown",
   "metadata": {},
   "source": [
    "### Exercise 1\n",
    "The matrix leaves the red component unchanged and sets the other components to 0:\n",
    "\n",
    "$$A\\begin{bmatrix} r \\\\ g \\\\ b \\\\ \\end{bmatrix}  = \\begin{bmatrix} r \\\\ 0 \\\\ 0 \\\\ \\end{bmatrix} $$"
   ]
  },
  {
   "cell_type": "markdown",
   "metadata": {},
   "source": [
    "### Solution:"
   ]
  },
  {
   "cell_type": "code",
   "execution_count": null,
   "metadata": {},
   "outputs": [],
   "source": []
  },
  {
   "cell_type": "markdown",
   "metadata": {},
   "source": [
    "### Exercise 2.\n",
    "\n",
    "The matrix interchanges the red component with the blue component:\n",
    "\n",
    "$$A\\begin{bmatrix} r \\\\ g \\\\ b \\\\ \\end{bmatrix}  = \\begin{bmatrix} b \\\\ g \\\\ r \\\\ \\end{bmatrix} $$"
   ]
  },
  {
   "cell_type": "markdown",
   "metadata": {},
   "source": [
    "### Solution:"
   ]
  },
  {
   "cell_type": "code",
   "execution_count": null,
   "metadata": {},
   "outputs": [],
   "source": []
  },
  {
   "cell_type": "markdown",
   "metadata": {},
   "source": [
    "### Exercise 3.\n",
    "The matrix divides all components by 2:\n",
    "\n",
    "$$A\\begin{bmatrix} r \\\\ g \\\\ b \\\\ \\end{bmatrix}  = \\begin{bmatrix} \\frac{1}{2}r \\\\ \\frac{1}{2}g \\\\ \\frac{1}{2}b \\\\ \\end{bmatrix} $$"
   ]
  },
  {
   "cell_type": "markdown",
   "metadata": {},
   "source": [
    "### Solution:"
   ]
  },
  {
   "cell_type": "code",
   "execution_count": null,
   "metadata": {},
   "outputs": [],
   "source": []
  },
  {
   "cell_type": "markdown",
   "metadata": {},
   "source": [
    "### Exercise 4.\n",
    "The matrix replaces all components by their average:\n",
    "\n",
    "$$A\\begin{bmatrix} r \\\\ g \\\\ b \\\\ \\end{bmatrix}  = \\begin{bmatrix} \\dfrac{r+g+b}{3} \\\\[1mm] \\dfrac{r+g+b}{3} \\\\[1mm] \\dfrac{r+g+b}{3} \\\\ \\end{bmatrix} $$"
   ]
  },
  {
   "cell_type": "markdown",
   "metadata": {},
   "source": [
    "### Solution:"
   ]
  },
  {
   "cell_type": "code",
   "execution_count": null,
   "metadata": {},
   "outputs": [],
   "source": []
  }
 ],
 "metadata": {
  "kernelspec": {
   "display_name": "Python 3 (ipykernel)",
   "language": "python",
   "name": "python3"
  },
  "language_info": {
   "codemirror_mode": {
    "name": "ipython",
    "version": 3
   },
   "file_extension": ".py",
   "mimetype": "text/x-python",
   "name": "python",
   "nbconvert_exporter": "python",
   "pygments_lexer": "ipython3",
   "version": "3.9.17"
  }
 },
 "nbformat": 4,
 "nbformat_minor": 2
}
